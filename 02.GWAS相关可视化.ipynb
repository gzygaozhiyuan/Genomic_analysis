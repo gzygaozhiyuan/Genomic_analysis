{
 "cells": [
  {
   "cell_type": "markdown",
   "metadata": {},
   "source": [
    "### GWAS结果可视化"
   ]
  },
  {
   "cell_type": "code",
   "execution_count": null,
   "metadata": {
    "vscode": {
     "languageId": "r"
    }
   },
   "outputs": [],
   "source": [
    "library(CMplot)\n",
    "\n",
    "# 设定阈值线\n",
    "x <- 1/126890\n",
    "df <- read.table('RRDW_GWAS_result.txt',header = T)\n",
    "\n",
    "# 关联性状\n",
    "pho <- 'R-RDW'\n",
    "\n",
    "gwas <- df[,c(1,2,3,5)]\n",
    "#gwas <- df[,c(2,1,3,12)]\n",
    "#gwas <- df[,c(1:4)]\n",
    "\n",
    "names(gwas) <- c('taxa','chr','pos',pho)\n",
    "\n",
    "CMplot(gwas,plot.type = \"m\",threshold = x,threshold.col=c('grey','black'),\n",
    "       threshold.lty = c(1,2),threshold.lwd = c(1,1), amplify = T,\n",
    "       signal.cex = c(1,1), signal.pch = c(20,20),signal.col = c(\"red\",\"orange\"))\n",
    "\n",
    "CMplot(gwas,plot.type=\"q\",conf.int.col=NULL,box=TRUE,file=\"jpg\",dpi=300,\n",
    "       file.output=TRUE,verbose=TRUE,threshold = 0.05,amplify = F)"
   ]
  },
  {
   "cell_type": "markdown",
   "metadata": {},
   "source": [
    "### 单倍型"
   ]
  },
  {
   "cell_type": "code",
   "execution_count": 1,
   "metadata": {
    "vscode": {
     "languageId": "r"
    }
   },
   "outputs": [
    {
     "name": "stderr",
     "output_type": "stream",
     "text": [
      "\n",
      "载入程辑包：'dplyr'\n",
      "\n",
      "\n",
      "The following objects are masked from 'package:stats':\n",
      "\n",
      "    filter, lag\n",
      "\n",
      "\n",
      "The following objects are masked from 'package:base':\n",
      "\n",
      "    intersect, setdiff, setequal, union\n",
      "\n",
      "\n"
     ]
    }
   ],
   "source": [
    "library(ggplot2)\n",
    "library(ggpubr)\n",
    "library(agricolae) \n",
    "library(ggthemes)\n",
    "library(dplyr)\n",
    "library(tidyr)\n",
    "library(patchwork)"
   ]
  },
  {
   "cell_type": "code",
   "execution_count": 4,
   "metadata": {
    "vscode": {
     "languageId": "r"
    }
   },
   "outputs": [
    {
     "data": {
      "text/html": [
       "<table class=\"dataframe\">\n",
       "<caption>A data.frame: 6 × 4</caption>\n",
       "<thead>\n",
       "\t<tr><th></th><th scope=col>Hap_com</th><th scope=col>Hap</th><th scope=col>X21y</th><th scope=col>Sub</th></tr>\n",
       "\t<tr><th></th><th scope=col>&lt;chr&gt;</th><th scope=col>&lt;chr&gt;</th><th scope=col>&lt;dbl&gt;</th><th scope=col>&lt;chr&gt;</th></tr>\n",
       "</thead>\n",
       "<tbody>\n",
       "\t<tr><th scope=row>CX206</th><td>CCTGATCGAATTGGGACCG</td><td>Hap1</td><td>85.33</td><td>XI</td></tr>\n",
       "\t<tr><th scope=row>CX2</th><td>CCTGATCGAATTGGGACCG</td><td>Hap1</td><td>92.67</td><td>XI</td></tr>\n",
       "\t<tr><th scope=row>IRIS_313-11738</th><td>CCTGATCGAATTGGGACCG</td><td>Hap1</td><td>90.67</td><td>XI</td></tr>\n",
       "\t<tr><th scope=row>IRIS_313-11806</th><td>CCTGATCGAATTGGGACCG</td><td>Hap1</td><td>81.33</td><td>XI</td></tr>\n",
       "\t<tr><th scope=row>CX313</th><td>CCTGATCGAATTGGGACCG</td><td>Hap1</td><td>90.67</td><td>XI</td></tr>\n",
       "\t<tr><th scope=row>IRIS_313-11751</th><td>CCTGATCGAATTGGGACCG</td><td>Hap1</td><td>97.33</td><td>XI</td></tr>\n",
       "</tbody>\n",
       "</table>\n"
      ],
      "text/latex": [
       "A data.frame: 6 × 4\n",
       "\\begin{tabular}{r|llll}\n",
       "  & Hap\\_com & Hap & X21y & Sub\\\\\n",
       "  & <chr> & <chr> & <dbl> & <chr>\\\\\n",
       "\\hline\n",
       "\tCX206 & CCTGATCGAATTGGGACCG & Hap1 & 85.33 & XI\\\\\n",
       "\tCX2 & CCTGATCGAATTGGGACCG & Hap1 & 92.67 & XI\\\\\n",
       "\tIRIS\\_313-11738 & CCTGATCGAATTGGGACCG & Hap1 & 90.67 & XI\\\\\n",
       "\tIRIS\\_313-11806 & CCTGATCGAATTGGGACCG & Hap1 & 81.33 & XI\\\\\n",
       "\tCX313 & CCTGATCGAATTGGGACCG & Hap1 & 90.67 & XI\\\\\n",
       "\tIRIS\\_313-11751 & CCTGATCGAATTGGGACCG & Hap1 & 97.33 & XI\\\\\n",
       "\\end{tabular}\n"
      ],
      "text/markdown": [
       "\n",
       "A data.frame: 6 × 4\n",
       "\n",
       "| <!--/--> | Hap_com &lt;chr&gt; | Hap &lt;chr&gt; | X21y &lt;dbl&gt; | Sub &lt;chr&gt; |\n",
       "|---|---|---|---|---|\n",
       "| CX206 | CCTGATCGAATTGGGACCG | Hap1 | 85.33 | XI |\n",
       "| CX2 | CCTGATCGAATTGGGACCG | Hap1 | 92.67 | XI |\n",
       "| IRIS_313-11738 | CCTGATCGAATTGGGACCG | Hap1 | 90.67 | XI |\n",
       "| IRIS_313-11806 | CCTGATCGAATTGGGACCG | Hap1 | 81.33 | XI |\n",
       "| CX313 | CCTGATCGAATTGGGACCG | Hap1 | 90.67 | XI |\n",
       "| IRIS_313-11751 | CCTGATCGAATTGGGACCG | Hap1 | 97.33 | XI |\n",
       "\n"
      ],
      "text/plain": [
       "               Hap_com             Hap  X21y  Sub\n",
       "CX206          CCTGATCGAATTGGGACCG Hap1 85.33 XI \n",
       "CX2            CCTGATCGAATTGGGACCG Hap1 92.67 XI \n",
       "IRIS_313-11738 CCTGATCGAATTGGGACCG Hap1 90.67 XI \n",
       "IRIS_313-11806 CCTGATCGAATTGGGACCG Hap1 81.33 XI \n",
       "CX313          CCTGATCGAATTGGGACCG Hap1 90.67 XI \n",
       "IRIS_313-11751 CCTGATCGAATTGGGACCG Hap1 97.33 XI "
      ]
     },
     "metadata": {},
     "output_type": "display_data"
    }
   ],
   "source": [
    "z = 'Germination Rate'\n",
    "data <- read.table('./LOC_Os01g07530_fin_new_hap.txt',sep='\\t',header = T,row.names = 1)\n",
    "data <- data[,(ncol(data)-3):ncol(data)]\n",
    "head(data)"
   ]
  },
  {
   "cell_type": "code",
   "execution_count": 5,
   "metadata": {
    "vscode": {
     "languageId": "r"
    }
   },
   "outputs": [
    {
     "data": {
      "text/plain": [
       "             Df Sum Sq Mean Sq F value   Pr(>F)    \n",
       "Hap           4  28033    7008   9.741 2.18e-07 ***\n",
       "Residuals   279 200735     719                     \n",
       "---\n",
       "Signif. codes:  0 '***' 0.001 '**' 0.01 '*' 0.05 '.' 0.1 ' ' 1"
      ]
     },
     "metadata": {},
     "output_type": "display_data"
    },
    {
     "data": {
      "text/plain": [
       "  Tukey multiple comparisons of means\n",
       "    95% family-wise confidence level\n",
       "\n",
       "Fit: aov(formula = Phe ~ Hap, data = data)\n",
       "\n",
       "$Hap\n",
       "                 diff        lwr       upr     p adj\n",
       "Hap2-Hap1 -29.6159331 -43.425519 -15.80635 0.0000001\n",
       "Hap3-Hap1  -5.2006226 -18.685495   8.28425 0.8273128\n",
       "Hap4-Hap1   7.6211552  -9.767833  25.01014 0.7494515\n",
       "Hap5-Hap1  -0.7788448 -18.167833  16.61014 0.9999482\n",
       "Hap3-Hap2  24.4153105   6.802795  42.02783 0.0016170\n",
       "Hap4-Hap2  37.2370882  16.482913  57.99126 0.0000142\n",
       "Hap5-Hap2  28.8370882   8.082913  49.59126 0.0015643\n",
       "Hap4-Hap3  12.8217778  -7.717768  33.36132 0.4269999\n",
       "Hap5-Hap3   4.4217778 -16.117768  24.96132 0.9763366\n",
       "Hap5-Hap4  -8.4000000 -31.689656  14.88966 0.8595755\n"
      ]
     },
     "metadata": {},
     "output_type": "display_data"
    },
    {
     "data": {
      "text/html": [
       "<table class=\"dataframe\">\n",
       "<caption>A data.frame: 5 × 2</caption>\n",
       "<thead>\n",
       "\t<tr><th></th><th scope=col>Phe</th><th scope=col>groups</th></tr>\n",
       "\t<tr><th></th><th scope=col>&lt;dbl&gt;</th><th scope=col>&lt;chr&gt;</th></tr>\n",
       "</thead>\n",
       "<tbody>\n",
       "\t<tr><th scope=row>Hap4</th><td>90.76650</td><td>a</td></tr>\n",
       "\t<tr><th scope=row>Hap1</th><td>83.14534</td><td>a</td></tr>\n",
       "\t<tr><th scope=row>Hap5</th><td>82.36650</td><td>a</td></tr>\n",
       "\t<tr><th scope=row>Hap3</th><td>77.94472</td><td>a</td></tr>\n",
       "\t<tr><th scope=row>Hap2</th><td>53.52941</td><td>b</td></tr>\n",
       "</tbody>\n",
       "</table>\n"
      ],
      "text/latex": [
       "A data.frame: 5 × 2\n",
       "\\begin{tabular}{r|ll}\n",
       "  & Phe & groups\\\\\n",
       "  & <dbl> & <chr>\\\\\n",
       "\\hline\n",
       "\tHap4 & 90.76650 & a\\\\\n",
       "\tHap1 & 83.14534 & a\\\\\n",
       "\tHap5 & 82.36650 & a\\\\\n",
       "\tHap3 & 77.94472 & a\\\\\n",
       "\tHap2 & 53.52941 & b\\\\\n",
       "\\end{tabular}\n"
      ],
      "text/markdown": [
       "\n",
       "A data.frame: 5 × 2\n",
       "\n",
       "| <!--/--> | Phe &lt;dbl&gt; | groups &lt;chr&gt; |\n",
       "|---|---|---|\n",
       "| Hap4 | 90.76650 | a |\n",
       "| Hap1 | 83.14534 | a |\n",
       "| Hap5 | 82.36650 | a |\n",
       "| Hap3 | 77.94472 | a |\n",
       "| Hap2 | 53.52941 | b |\n",
       "\n"
      ],
      "text/plain": [
       "     Phe      groups\n",
       "Hap4 90.76650 a     \n",
       "Hap1 83.14534 a     \n",
       "Hap5 82.36650 a     \n",
       "Hap3 77.94472 a     \n",
       "Hap2 53.52941 b     "
      ]
     },
     "metadata": {},
     "output_type": "display_data"
    },
    {
     "data": {
      "text/html": [
       "5"
      ],
      "text/latex": [
       "5"
      ],
      "text/markdown": [
       "5"
      ],
      "text/plain": [
       "[1] 5"
      ]
     },
     "metadata": {},
     "output_type": "display_data"
    }
   ],
   "source": [
    "# 删除NA所在行\n",
    "data <- data[complete.cases(data), ]\n",
    "\n",
    "# 删除单倍型较少的行\n",
    "unique_counts <- table(data$Hap)\n",
    "data <- data[!(data$Hap %in% names(unique_counts)[unique_counts < 10]), ]\n",
    "\n",
    "# 进行方差分析\n",
    "names(data) <- c('HAP_com','Hap','Phe','Sub')\n",
    "data$Sub[data$Sub == \"GJ\"] <- \"Japonica\"\n",
    "data$Sub[data$Sub == \"XI\"] <- \"Indica\"\n",
    "# data$Hap[data$Hap == \"Hap8\"] <- \"Hap6\"\n",
    "h = max(data$Phe)*1.1\n",
    "aov_result <- aov(Phe~Hap, data)\n",
    "summary(aov_result)\n",
    "TukeyHSD(aov_result)\n",
    "\n",
    "# 多重比较\n",
    "re = LSD.test(aov_result,'Hap',alpha = 0.05)\n",
    "re1 = re$groups\n",
    "re1\n",
    "\n",
    "length(unique(rownames(re1)))"
   ]
  },
  {
   "cell_type": "code",
   "execution_count": 14,
   "metadata": {
    "vscode": {
     "languageId": "r"
    }
   },
   "outputs": [
    {
     "data": {
      "image/png": "[encoded data removed]",
      "text/plain": [
       "plot without title"
      ]
     },
     "metadata": {
      "image/png": {
       "height": 330,
       "width": 960
      }
     },
     "output_type": "display_data"
    }
   ],
   "source": [
    "# 绘图(箱线图)\n",
    "hap1 = re1['Hap1','groups']\n",
    "hap2 = re1['Hap2','groups']\n",
    "hap3 = re1['Hap3','groups']\n",
    "hap4 = re1['Hap4','groups']\n",
    "hap5 = re1['Hap5','groups']\n",
    "\n",
    "data$Hap <- factor(data$Hap, levels = c(\"Hap1\", \"Hap2\", \"Hap3\", \"Hap4\", \"Hap5\"))\n",
    "\n",
    "p1 <- ggboxplot(data, x = \"Hap\", y = \"Phe\", color = \"Hap\", add = \"jitter\") +\n",
    "  scale_x_discrete(labels = c(\"Hap1\" = paste0(\"Hap1(n=\", nrow(data[data$Hap == \"Hap1\",]), \")\"),\n",
    "                              \"Hap2\" = paste0(\"Hap2(n=\", nrow(data[data$Hap == \"Hap2\",]), \")\"),\n",
    "                              \"Hap3\" = paste0(\"Hap3(n=\", nrow(data[data$Hap == \"Hap3\",]), \")\"),\n",
    "                              \"Hap4\" = paste0(\"Hap4(n=\", nrow(data[data$Hap == \"Hap4\",]), \")\"),\n",
    "                              \"Hap5\" = paste0(\"Hap5(n=\", nrow(data[data$Hap == \"Hap5\",]), \")\"))) +\n",
    "  annotate(\"text\",label=hap1,x=1,y=h,size=8)+\n",
    "  annotate(\"text\",label=hap2,x=2,y=h,size=8)+\n",
    "  annotate(\"text\",label=hap3,x=3,y=h,size=8)+\n",
    "  annotate(\"text\",label=hap4,x=4,y=h,size=8)+\n",
    "  annotate(\"text\",label=hap5,x=5,y=h,size=8)+\n",
    "  labs(x = \"\", y = z) +\n",
    "  theme(axis.text = element_text(size = 16),\n",
    "        axis.title = element_text(size = 20),\n",
    "        legend.text = element_text(size = 16),\n",
    "        legend.title = element_text(size = 16))\n",
    "\n",
    "\n",
    "# 绘图堆积图\n",
    "p2 <- ggplot(data, aes(x = Hap, fill = Sub)) +\n",
    "  geom_bar() +\n",
    "  scale_fill_manual(values = c(\"Indica\" = \"#2ca02c\", \"Japonica\" = \"#d62728\")) +\n",
    "  theme(panel.grid = element_blank(),\n",
    "        panel.background = element_rect(fill = \"white\"),\n",
    "        axis.line = element_line(),\n",
    "        axis.text = element_text(size = 16,color = 'black'),\n",
    "        axis.title = element_text(size = 20),\n",
    "        legend.position = c(0.9,0.9),\n",
    "        legend.text = element_text(size = 16,face = \"italic\"),\n",
    "        legend.title = element_text(size = 16))+\n",
    "  labs(x = \"\", y = \"Count\",fill=\"\")\n",
    "\n",
    "combined_plots <- p1 + p2\n",
    "# pdf(paste(gene,'gr','pdf',sep = '.'),width = 16,height = 5.5)\n",
    "# dev.off()\n",
    "options(repr.plot.width=16, repr.plot.height=5.5)\n",
    "ggarrange(p1,p2,ncol = 2,nrow = 1)"
   ]
  },
  {
   "cell_type": "markdown",
   "metadata": {},
   "source": [
    "### 树形图"
   ]
  },
  {
   "cell_type": "code",
   "execution_count": 2,
   "metadata": {
    "vscode": {
     "languageId": "r"
    }
   },
   "outputs": [
    {
     "name": "stderr",
     "output_type": "stream",
     "text": [
      "Registered S3 method overwritten by 'ggtree':\n",
      "  method      from \n",
      "  identify.gg ggfun\n",
      "\n",
      "ggtree v3.2.1  For help: https://yulab-smu.top/treedata-book/\n",
      "\n",
      "If you use ggtree in published research, please cite the most appropriate paper(s):\n",
      "\n",
      "1. Guangchuang Yu. Using ggtree to visualize data on tree-like structures. Current Protocols in Bioinformatics. 2020, 69:e96. doi:10.1002/cpbi.96\n",
      "2. Guangchuang Yu, Tommy Tsan-Yuk Lam, Huachen Zhu, Yi Guan. Two methods for mapping and visualizing associated data on phylogeny using ggtree. Molecular Biology and Evolution. 2018, 35(12):3041-3043. doi:10.1093/molbev/msy194\n",
      "3. Guangchuang Yu, David Smith, Huachen Zhu, Yi Guan, Tommy Tsan-Yuk Lam. ggtree: an R package for visualization and annotation of phylogenetic trees with their covariates and other associated data. Methods in Ecology and Evolution. 2017, 8(1):28-36. doi:10.1111/2041-210X.12628\n",
      "\n",
      "\n",
      "\n",
      "\n",
      "载入程辑包：'ggtree'\n",
      "\n",
      "\n",
      "The following object is masked from 'package:tidyr':\n",
      "\n",
      "    expand\n",
      "\n",
      "\n",
      "The following object is masked from 'package:ggpubr':\n",
      "\n",
      "    rotate\n",
      "\n",
      "\n"
     ]
    }
   ],
   "source": [
    "library(\"ggplot2\")\n",
    "library(\"ggtree\")\n",
    "library(\"colorspace\")\n",
    "treFile=\"input.tre\"           \n",
    "groupFile=\"group.txt\"           "
   ]
  },
  {
   "cell_type": "code",
   "execution_count": 3,
   "metadata": {
    "vscode": {
     "languageId": "r"
    }
   },
   "outputs": [
    {
     "data": {
      "image/png": "[encoded data removed]",
      "text/plain": [
       "plot without title"
      ]
     },
     "metadata": {
      "image/png": {
       "height": 420,
       "width": 420
      }
     },
     "output_type": "display_data"
    }
   ],
   "source": [
    "cls=list()\n",
    "rt=read.table(groupFile,sep=\"\\t\",header=T)\n",
    "for(i in 1:nrow(rt)){\n",
    "\totu=as.character(rt[i,1])\n",
    "\tphylum=as.character(rt[i,2])\n",
    "\tcls[[phylum]]=c(cls[[phylum]], otu)\n",
    "}\n",
    "phylumNames=names(cls)\n",
    "phylumNum=length(phylumNames)\n",
    "\n",
    "#读取进化树文件，和属性文件合并\n",
    "tree=read.tree(treFile)\n",
    "tree=groupOTU(tree, cls)\n",
    "\n",
    "#绘制\n",
    "ggtree(tree, \n",
    "       layout=\"circular\", \n",
    "       ladderize = F, \n",
    "       branch.length=\"none\", \n",
    "       aes(color=group)) + \n",
    "       scale_color_manual(values=c(rainbow_hcl(phylumNum+1)),breaks=phylumNames, labels=phylumNames ) + \n",
    "       theme(legend.position=\"right\") + \n",
    "       geom_text(aes(label=paste(\"                \",label,sep=\"\"), \n",
    "       angle=angle+45), \n",
    "       size=2)"
   ]
  },
  {
   "cell_type": "code",
   "execution_count": null,
   "metadata": {
    "vscode": {
     "languageId": "r"
    }
   },
   "outputs": [],
   "source": []
  },
  {
   "cell_type": "markdown",
   "metadata": {},
   "source": []
  }
 ],
 "metadata": {
  "kernelspec": {
   "display_name": "R",
   "language": "R",
   "name": "ir"
  },
  "language_info": {
   "codemirror_mode": "r",
   "file_extension": ".r",
   "mimetype": "text/x-r-source",
   "name": "R",
   "pygments_lexer": "r",
   "version": "4.1.3"
  },
  "orig_nbformat": 4
 },
 "nbformat": 4,
 "nbformat_minor": 2
}
