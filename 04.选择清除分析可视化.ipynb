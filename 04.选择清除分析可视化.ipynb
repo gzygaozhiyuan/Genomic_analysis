{
 "cells": [
  {
   "cell_type": "code",
   "execution_count": 16,
   "metadata": {
    "vscode": {
     "languageId": "r"
    }
   },
   "outputs": [],
   "source": [
    "library(ggplot2)"
   ]
  },
  {
   "cell_type": "code",
   "execution_count": 17,
   "metadata": {
    "vscode": {
     "languageId": "r"
    }
   },
   "outputs": [],
   "source": [
    "col=c(\"#4197d8\", \"#f8c120\", \"#413496\", \"#495226\", \"#d60b6f\", \"#e66519\", \"#d581b7\", \"#83d3ad\", \"#7c162c\", \"#26755d\")"
   ]
  },
  {
   "cell_type": "code",
   "execution_count": 18,
   "metadata": {
    "vscode": {
     "languageId": "r"
    }
   },
   "outputs": [],
   "source": [
    "loess_span_select <- function(value, pos){\n",
    "\t# get spans\n",
    "\t#span <- seq(round(50/length(pos),digits=3), 1, 0.001)\n",
    "\t#span <- seq(round(50/length(pos),digits=2), 1, 0.01)\n",
    "\t#span <- seq(round(50/length(pos),digits=2), 1, 0.03)\n",
    "\tspan <- seq(round(50/length(pos),digits=2), 1, 0.05)\n",
    "\t#span <- seq(0.01, 1, 0.05)\n",
    "\t#span <- c(0.025)\n",
    "\tspan <- matrix(span,,1)\n",
    "\tcat(\"span\", as.vector(span),\"\\n\")\n",
    "\t# iter\n",
    "\tspan.aicc <- apply(span, 1, aicc, value=value, pos=pos)\n",
    "\tcat(\"span.aicc\", as.vector(span.aicc),\"\\n\")\n",
    "\t# get min aicc\n",
    "\tspan.notna <- span[!is.na(span.aicc)]\n",
    "\tspan.aicc.notna <- span.aicc[!is.na(span.aicc)]\n",
    "\tm <- min(span.aicc.notna)\n",
    "\tif( is.infinite(m) ){\n",
    "\t\tcat(\"span selecting failed: min is infinite\\n\")\n",
    "\t\tq(status=1)\n",
    "\t}\n",
    "\t# return\n",
    "\treturn( span.notna[span.aicc.notna==m] )\n",
    "}\n",
    "fit_by_loess <- function(x,pos){\n",
    "\t# check the number of points for fitting\n",
    "\tif ( length(x) < 50 ){\n",
    "\t\tcat(\"the number of points for fitting is too small(<50)\\n\")\n",
    "\t\tq(status=1)\n",
    "\t}\n",
    "\t# get best span\n",
    "\ts <- loess_span_select(x, pos)\n",
    "\ts <- s[1] \t# get one of span\n",
    "\tcat(\"best_span\\t\", s, \"\\n\")\n",
    "\t# fitting\n",
    "\tloe <- loess(x ~ pos, span = s, degree=1, family='symmetric', surface='direct')\n",
    "\t# return\n",
    "\tloe$fitted\n",
    "}\n",
    "win_by_snpnum <- function(x,width){\n",
    "\tp <- x\n",
    "\tlen <- length(x)\n",
    "\tfor ( i in 1:len ){\n",
    "\t\tp[i] <- median(x[max(1,i-width):min(len,i+width)])\n",
    "\t}\n",
    "\tp\n",
    "}\n",
    "# for window by DISTANCE\n",
    "# for window by DISTANCE\n",
    "win_by_distance <- function(x,pos,width){\n",
    "\tp <- x\n",
    "\tlen <- length(x)\n",
    "\tfor ( i in 1:len ){\n",
    "\t\tp[i] <- mean(x[ (pos>pos[i]-width) & (pos<pos[i]+width) ])\n",
    "\t}\n",
    "\tp\n",
    "}"
   ]
  },
  {
   "cell_type": "code",
   "execution_count": 19,
   "metadata": {
    "vscode": {
     "languageId": "r"
    }
   },
   "outputs": [
    {
     "data": {
      "text/html": [
       "<table class=\"dataframe\">\n",
       "<caption>A data.frame: 6 × 4</caption>\n",
       "<thead>\n",
       "\t<tr><th></th><th scope=col>chr</th><th scope=col>start</th><th scope=col>end</th><th scope=col>value</th></tr>\n",
       "\t<tr><th></th><th scope=col>&lt;int&gt;</th><th scope=col>&lt;int&gt;</th><th scope=col>&lt;int&gt;</th><th scope=col>&lt;dbl&gt;</th></tr>\n",
       "</thead>\n",
       "<tbody>\n",
       "\t<tr><th scope=row>1</th><td>1</td><td>   1</td><td>2000</td><td>0.110702</td></tr>\n",
       "\t<tr><th scope=row>2</th><td>1</td><td>1001</td><td>3000</td><td>0.110469</td></tr>\n",
       "\t<tr><th scope=row>3</th><td>1</td><td>2001</td><td>4000</td><td>0.111977</td></tr>\n",
       "\t<tr><th scope=row>4</th><td>1</td><td>3001</td><td>5000</td><td>0.108133</td></tr>\n",
       "\t<tr><th scope=row>5</th><td>1</td><td>4001</td><td>6000</td><td>0.104580</td></tr>\n",
       "\t<tr><th scope=row>6</th><td>1</td><td>5001</td><td>7000</td><td>0.108408</td></tr>\n",
       "</tbody>\n",
       "</table>\n"
      ],
      "text/latex": [
       "A data.frame: 6 × 4\n",
       "\\begin{tabular}{r|llll}\n",
       "  & chr & start & end & value\\\\\n",
       "  & <int> & <int> & <int> & <dbl>\\\\\n",
       "\\hline\n",
       "\t1 & 1 &    1 & 2000 & 0.110702\\\\\n",
       "\t2 & 1 & 1001 & 3000 & 0.110469\\\\\n",
       "\t3 & 1 & 2001 & 4000 & 0.111977\\\\\n",
       "\t4 & 1 & 3001 & 5000 & 0.108133\\\\\n",
       "\t5 & 1 & 4001 & 6000 & 0.104580\\\\\n",
       "\t6 & 1 & 5001 & 7000 & 0.108408\\\\\n",
       "\\end{tabular}\n"
      ],
      "text/markdown": [
       "\n",
       "A data.frame: 6 × 4\n",
       "\n",
       "| <!--/--> | chr &lt;int&gt; | start &lt;int&gt; | end &lt;int&gt; | value &lt;dbl&gt; |\n",
       "|---|---|---|---|---|\n",
       "| 1 | 1 |    1 | 2000 | 0.110702 |\n",
       "| 2 | 1 | 1001 | 3000 | 0.110469 |\n",
       "| 3 | 1 | 2001 | 4000 | 0.111977 |\n",
       "| 4 | 1 | 3001 | 5000 | 0.108133 |\n",
       "| 5 | 1 | 4001 | 6000 | 0.104580 |\n",
       "| 6 | 1 | 5001 | 7000 | 0.108408 |\n",
       "\n"
      ],
      "text/plain": [
       "  chr start end  value   \n",
       "1 1      1  2000 0.110702\n",
       "2 1   1001  3000 0.110469\n",
       "3 1   2001  4000 0.111977\n",
       "4 1   3001  5000 0.108133\n",
       "5 1   4001  6000 0.104580\n",
       "6 1   5001  7000 0.108408"
      ]
     },
     "metadata": {},
     "output_type": "display_data"
    }
   ],
   "source": [
    "rawdata<-read.table('./GJvsXI.windowed.weir.fst',header = T,comment.char = \"\")\n",
    "rawdata<-rawdata[,c(\"CHROM\", \"BIN_START\", \"BIN_END\", \"WEIGHTED_FST\")]\n",
    "colnames(rawdata)<-c(\"chr\",\"start\",\"end\",\"value\")\n",
    "rawdata$value[rawdata$value<0]=0\n",
    "head(rawdata)"
   ]
  },
  {
   "cell_type": "code",
   "execution_count": 20,
   "metadata": {
    "vscode": {
     "languageId": "r"
    }
   },
   "outputs": [
    {
     "data": {
      "text/html": [
       "<table class=\"dataframe\">\n",
       "<caption>A data.frame: 6 × 2</caption>\n",
       "<thead>\n",
       "\t<tr><th></th><th scope=col>V1</th><th scope=col>V2</th></tr>\n",
       "\t<tr><th></th><th scope=col>&lt;int&gt;</th><th scope=col>&lt;int&gt;</th></tr>\n",
       "</thead>\n",
       "<tbody>\n",
       "\t<tr><th scope=row>1</th><td>1</td><td>43255618</td></tr>\n",
       "\t<tr><th scope=row>2</th><td>2</td><td>35935782</td></tr>\n",
       "\t<tr><th scope=row>3</th><td>3</td><td>36413322</td></tr>\n",
       "\t<tr><th scope=row>4</th><td>4</td><td>35502333</td></tr>\n",
       "\t<tr><th scope=row>5</th><td>5</td><td>29948561</td></tr>\n",
       "\t<tr><th scope=row>6</th><td>6</td><td>31247197</td></tr>\n",
       "</tbody>\n",
       "</table>\n"
      ],
      "text/latex": [
       "A data.frame: 6 × 2\n",
       "\\begin{tabular}{r|ll}\n",
       "  & V1 & V2\\\\\n",
       "  & <int> & <int>\\\\\n",
       "\\hline\n",
       "\t1 & 1 & 43255618\\\\\n",
       "\t2 & 2 & 35935782\\\\\n",
       "\t3 & 3 & 36413322\\\\\n",
       "\t4 & 4 & 35502333\\\\\n",
       "\t5 & 5 & 29948561\\\\\n",
       "\t6 & 6 & 31247197\\\\\n",
       "\\end{tabular}\n"
      ],
      "text/markdown": [
       "\n",
       "A data.frame: 6 × 2\n",
       "\n",
       "| <!--/--> | V1 &lt;int&gt; | V2 &lt;int&gt; |\n",
       "|---|---|---|\n",
       "| 1 | 1 | 43255618 |\n",
       "| 2 | 2 | 35935782 |\n",
       "| 3 | 3 | 36413322 |\n",
       "| 4 | 4 | 35502333 |\n",
       "| 5 | 5 | 29948561 |\n",
       "| 6 | 6 | 31247197 |\n",
       "\n"
      ],
      "text/plain": [
       "  V1 V2      \n",
       "1 1  43255618\n",
       "2 2  35935782\n",
       "3 3  36413322\n",
       "4 4  35502333\n",
       "5 5  29948561\n",
       "6 6  31247197"
      ]
     },
     "metadata": {},
     "output_type": "display_data"
    }
   ],
   "source": [
    "refl<-read.table('./rice.fai',header = F,comment.char = \"\")\n",
    "rawdata=rawdata[rawdata$chr%in% refl$V1,]\n",
    "chr=rawdata$chr\n",
    "value=rawdata$value\n",
    "pos=rawdata$start\n",
    "chr_names<-refl$V1\n",
    "win.value=rawdata$value\n",
    "head(refl)"
   ]
  },
  {
   "cell_type": "code",
   "execution_count": 21,
   "metadata": {
    "vscode": {
     "languageId": "r"
    }
   },
   "outputs": [
    {
     "name": "stdout",
     "output_type": "stream",
     "text": [
      "chr_name =  1 \n",
      "chr_name =  2 \n",
      "chr_name =  3 \n",
      "chr_name =  4 \n",
      "chr_name =  5 \n",
      "chr_name =  6 \n",
      "chr_name =  7 \n",
      "chr_name =  8 \n",
      "chr_name =  9 \n",
      "chr_name =  10 \n",
      "chr_name =  11 \n",
      "chr_name =  12 \n"
     ]
    }
   ],
   "source": [
    "for ( name in chr_names ) {\n",
    "\tcat(\"chr_name = \", name, \"\\n\")\n",
    "\t# sub for one chr\n",
    "\tsub <- chr==name\n",
    "\tsub.value <- value[sub]\n",
    "\tsub.pos <- pos[sub]\n",
    "\twin.value[sub] <- win_by_distance(x=sub.value, pos=sub.pos, width=1000000)\n",
    "}"
   ]
  },
  {
   "cell_type": "code",
   "execution_count": 22,
   "metadata": {
    "vscode": {
     "languageId": "r"
    }
   },
   "outputs": [
    {
     "data": {
      "text/html": [
       "<style>\n",
       ".dl-inline {width: auto; margin:0; padding: 0}\n",
       ".dl-inline>dt, .dl-inline>dd {float: none; width: auto; display: inline-block}\n",
       ".dl-inline>dt::after {content: \":\\0020\"; padding-right: .5ex}\n",
       ".dl-inline>dt:not(:first-of-type) {padding-left: .5ex}\n",
       "</style><dl class=dl-inline><dt>1%</dt><dd>0.013865028</dd><dt>5%</dt><dd>0.08421478</dd><dt>80%</dt><dd>0.800479</dd><dt>90%</dt><dd>0.8683092</dd><dt>95%</dt><dd>0.9092816</dd><dt>99%</dt><dd>0.95412232</dd></dl>\n"
      ],
      "text/latex": [
       "\\begin{description*}\n",
       "\\item[1\\textbackslash{}\\%] 0.013865028\n",
       "\\item[5\\textbackslash{}\\%] 0.08421478\n",
       "\\item[80\\textbackslash{}\\%] 0.800479\n",
       "\\item[90\\textbackslash{}\\%] 0.8683092\n",
       "\\item[95\\textbackslash{}\\%] 0.9092816\n",
       "\\item[99\\textbackslash{}\\%] 0.95412232\n",
       "\\end{description*}\n"
      ],
      "text/markdown": [
       "1%\n",
       ":   0.0138650285%\n",
       ":   0.0842147880%\n",
       ":   0.80047990%\n",
       ":   0.868309295%\n",
       ":   0.909281699%\n",
       ":   0.95412232\n",
       "\n"
      ],
      "text/plain": [
       "        1%         5%        80%        90%        95%        99% \n",
       "0.01386503 0.08421478 0.80047900 0.86830920 0.90928160 0.95412232 "
      ]
     },
     "metadata": {},
     "output_type": "display_data"
    }
   ],
   "source": [
    "rawdata$smooth.value=win.value\n",
    "chrlen<-refl$V2\n",
    "names(chrlen)<-refl$V1\n",
    "blank=0.01*sum(chrlen)\n",
    "chrpos<-cumsum(chrlen[-length(chrlen)]+blank)\n",
    "chrpos<-c(0,chrpos)\n",
    "names(chrpos)<-names(chrlen)\n",
    "#chrpos<-chrpos-pos[1,names(chrpos)]\n",
    "chrid<- as.character(rawdata$chr)\n",
    "ylab=\"Fst\"\n",
    "quantile(rawdata$value,c(0.01,0.05,0.8,0.90,0.95,0.99),na.rm=T)\n",
    "threshold=quantile(rawdata$value,1-0.05,na.rm=T)\n",
    "M=mean(rawdata$value)\n",
    "S=sd(rawdata$value)\n",
    "rawdata$value=(rawdata$value-M)/S\n",
    "ylab=expression(Z(Fst))\n",
    "threshold=quantile(rawdata$value,1-0.05)"
   ]
  },
  {
   "cell_type": "code",
   "execution_count": 29,
   "metadata": {
    "vscode": {
     "languageId": "r"
    }
   },
   "outputs": [],
   "source": [
    "#plot manhattan\n",
    "plot.data<- data.frame(chr=as.character(rawdata$chr),pos=rawdata$start+chrpos[chrid],value=rawdata$smooth.value)\n",
    "plot.data$chr=factor(plot.data$chr, levels = refl$V1,ordered=T)\n",
    "p<-ggplot(plot.data,aes(x=pos,y=value,colour=chr))\n",
    "p<-p+geom_line(size=0.5)\n",
    "p<-p+scale_colour_manual(values=rep(c(\"#eb65a0\", \"#22c2e4\", \"#4abb6b\",\"#f28d21\"),times=100))+\n",
    "\t\tlabs(x=\"Chromosome\",y=ylab,title=\"\")\n",
    "xat<- sapply(tapply(plot.data$pos,plot.data$chr,function(x)mean(range(x))), unlist)\n",
    "p<-p+scale_x_continuous(expand = c(0.001,0),breaks=xat,labels=names(xat)) \n",
    "\t\t#geom_hline(yintercept = threshold,linetype = 2, size = 0.2)   #水平阈值线\n",
    "p<-p+theme_classic()+theme(axis.text=element_text(size = 14),\n",
    "\t\taxis.text.x=element_text(angle = 65,vjust=1,hjust=1),  #染色体名称对齐角度\n",
    "\t\taxis.title=element_text(size = 16), #\n",
    "\t\tplot.title=element_text(size =24,hjust=0.5),\n",
    "\t\tlegend.position='none')+ scale_y_continuous(expand = c(0,0))"
   ]
  },
  {
   "cell_type": "code",
   "execution_count": 30,
   "metadata": {
    "vscode": {
     "languageId": "r"
    }
   },
   "outputs": [
    {
     "data": {
      "image/png": "[encoded data removed]",
      "text/plain": [
       "plot without title"
      ]
     },
     "metadata": {
      "image/png": {
       "height": 240,
       "width": 600
      }
     },
     "output_type": "display_data"
    }
   ],
   "source": [
    "options(repr.plot.width=10, repr.plot.height=4)\n",
    "p"
   ]
  }
 ],
 "metadata": {
  "kernelspec": {
   "display_name": "R",
   "language": "R",
   "name": "ir"
  },
  "language_info": {
   "codemirror_mode": "r",
   "file_extension": ".r",
   "mimetype": "text/x-r-source",
   "name": "R",
   "pygments_lexer": "r",
   "version": "4.1.3"
  },
  "orig_nbformat": 4
 },
 "nbformat": 4,
 "nbformat_minor": 2
}
